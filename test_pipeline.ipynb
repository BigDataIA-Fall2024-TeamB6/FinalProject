{
 "cells": [
  {
   "cell_type": "code",
   "execution_count": 1,
   "id": "f370b364",
   "metadata": {},
   "outputs": [],
   "source": [
    "import os\n",
    "import json\n",
    "import base64\n",
    "import requests\n",
    "from msal import ConfidentialClientApplication\n",
    "from datetime import datetime\n",
    "from PIL import Image\n",
    "from io import BytesIO\n",
    "import fitz \n",
    "from unidecode import unidecode\n",
    "from gtts import gTTS"
   ]
  },
  {
   "cell_type": "code",
   "execution_count": null,
   "id": "1f380269",
   "metadata": {},
   "outputs": [],
   "source": [
    "# Define constants\n",
    "CLIENT_ID = os.getenv(\"CLIENT_ID\")\n",
    "TENANT_ID = os.getenv(\"TENANT_ID\")\n",
    "CLIENT_SECRET = os.getenv(\"CLIENT_SECRET\")\n",
    "EMAIL = os.getenv(\"EMAIL\")"
   ]
  },
  {
   "cell_type": "code",
   "execution_count": 3,
   "id": "0d3ac1a2",
   "metadata": {
    "lines_to_next_cell": 1
   },
   "outputs": [],
   "source": [
    "# Ensure downloads folder exists\n",
    "downloads_folder = \"downloads\"\n",
    "os.makedirs(downloads_folder, exist_ok=True)"
   ]
  },
  {
   "cell_type": "code",
   "execution_count": 4,
   "id": "e363c449",
   "metadata": {
    "lines_to_next_cell": 1
   },
   "outputs": [],
   "source": [
    "def sanitize_filename(filename):\n",
    "    \"\"\"Sanitize filenames to avoid illegal characters.\"\"\"\n",
    "    return \"\".join(c for c in filename if c.isalnum() or c in (' ', '_')).rstrip()"
   ]
  },
  {
   "cell_type": "code",
   "execution_count": 5,
   "id": "a554cab0",
   "metadata": {
    "lines_to_next_cell": 1
   },
   "outputs": [],
   "source": [
    "def get_access_token():\n",
    "    \"\"\"Fetch an access token from Azure.\"\"\"\n",
    "    app = ConfidentialClientApplication(\n",
    "        CLIENT_ID,\n",
    "        authority=f\"https://login.microsoftonline.com/{TENANT_ID}\",\n",
    "        client_credential=CLIENT_SECRET,\n",
    "    )\n",
    "    token_response = app.acquire_token_for_client(scopes=[\"https://graph.microsoft.com/.default\"])\n",
    "    if \"access_token\" in token_response:\n",
    "        return token_response[\"access_token\"]\n",
    "    else:\n",
    "        raise Exception(\"Access token acquisition failed.\")"
   ]
  },
  {
   "cell_type": "code",
   "execution_count": 7,
   "id": "d77308d5",
   "metadata": {
    "lines_to_next_cell": 1
   },
   "outputs": [],
   "source": [
    "def fetch_emails():\n",
    "    \"\"\"Fetch emails using Microsoft Graph API.\"\"\"\n",
    "    token = get_access_token()\n",
    "    headers = {\"Authorization\": f\"Bearer {token}\"}\n",
    "    endpoint = f\"https://graph.microsoft.com/v1.0/users/{EMAIL}/messages\"\n",
    "    params = {\n",
    "        \"$select\": \"subject,sender,receivedDateTime,bodyPreview\",\n",
    "        \"$top\": 10,\n",
    "        \"$expand\": \"attachments\"\n",
    "    }\n",
    "    response = requests.get(endpoint, headers=headers, params=params)\n",
    "    response.raise_for_status()\n",
    "    emails = response.json()\n",
    "\n",
    "    for email in emails.get(\"value\", []):\n",
    "        save_email(email)"
   ]
  },
  {
   "cell_type": "code",
   "execution_count": 8,
   "id": "0397c213",
   "metadata": {
    "lines_to_next_cell": 1
   },
   "outputs": [],
   "source": [
    "def text_to_speech_with_gtts(text, output_file=\"audio_files/output_audio.mp3\"):\n",
    "    try:\n",
    "        # Initialize gTTS (Google Text-to-Speech)\n",
    "        tts = gTTS(text, lang='en')\n",
    "        \n",
    "        # Ensure the directory exists where the file is to be saved\n",
    "        output_directory = os.path.dirname(output_file)\n",
    "        if output_directory and not os.path.exists(output_directory):\n",
    "            os.makedirs(output_directory)  # Create directory if it doesn't exist\n",
    "        \n",
    "        # Save the speech to a file\n",
    "        tts.save(output_file)\n",
    "        print(f\"Audio saved to {output_file}.\")\n",
    "        return output_file\n",
    "    except Exception as e:\n",
    "        print(f\"Error during TTS: {e}\")\n",
    "        return None"
   ]
  },
  {
   "cell_type": "code",
   "execution_count": 9,
   "id": "546b17bb",
   "metadata": {},
   "outputs": [],
   "source": [
    "def save_email(email_data):\n",
    "    \"\"\"Save email content, attachments, and generate TTS.\"\"\"\n",
    "    subject = email_data.get('subject', 'No Subject')\n",
    "    email_folder_path = os.path.join(downloads_folder, subject)\n",
    "    document_id = subject\n",
    "    counter = 1\n",
    "    while os.path.exists(os.path.join(downloads_folder, f\"{subject}_{counter}\")):\n",
    "        counter += 1\n",
    "\n",
    "    document_id = f\"{subject}_{counter}\"\n",
    "    email_folder_path = os.path.join(downloads_folder, document_id)\n",
    "\n",
    "\n",
    "\n",
    "    # Check if the folder already exists\n",
    "    if os.path.exists(email_folder_path):\n",
    "        print(f\"Email with document ID {document_id} already processed. Skipping.\")\n",
    "        return\n",
    "\n",
    "    os.makedirs(email_folder_path, exist_ok=True)\n",
    "\n",
    "    # Use bodyPreview instead of full body\n",
    "    email_metadata = {\n",
    "        \"document_id\": document_id,  \n",
    "        \"subject\": email_data.get('subject', 'No Subject'),\n",
    "        \"sender\": email_data[\"sender\"][\"emailAddress\"][\"address\"],\n",
    "        \"received_time\": email_data[\"receivedDateTime\"],\n",
    "        \"body_preview\": email_data.get(\"bodyPreview\", \"No preview available\")  # Extracting bodyPreview\n",
    "    }\n",
    "\n",
    "    metadata_path = os.path.join(email_folder_path, \"metadata.json\")\n",
    "    with open(metadata_path, 'w') as metadata_file:\n",
    "        json.dump(email_metadata, metadata_file, indent=4)\n",
    "\n",
    "    # Generate Text-to-Speech using bodyPreview\n",
    "    combined_text = (\n",
    "        f\"Subject: {email_metadata['subject']}. \"\n",
    "        f\"Content: {email_metadata['body_preview']}. \"  # Use bodyPreview\n",
    "        f\"Sender: {email_metadata['sender']}. \"\n",
    "        f\"Received Time: {email_metadata['received_time']}.\"\n",
    "    )\n",
    "    audio_output_path = os.path.join(email_folder_path, \"email_audio.mp3\")\n",
    "    text_to_speech_with_gtts(combined_text, audio_output_path)\n",
    "\n",
    "    # Save attachments\n",
    "    for attachment in email_data.get(\"attachments\", []):\n",
    "        attachment_name = attachment.get('name', 'Unnamed_Attachment')\n",
    "        attachment_data = attachment.get('contentBytes')\n",
    "        if not attachment_data:\n",
    "            continue\n",
    "\n",
    "        content = base64.b64decode(attachment_data)\n",
    "        if attachment_name.lower().endswith('.pdf'):\n",
    "            save_pdf_attachment(content, email_folder_path, attachment_name)\n",
    "        elif any(attachment_name.lower().endswith(ext) for ext in ['jpg', 'jpeg', 'png', 'gif']):\n",
    "            save_image_attachment(content, email_folder_path, attachment_name)"
   ]
  },
  {
   "cell_type": "code",
   "execution_count": null,
   "id": "1a31621c",
   "metadata": {},
   "outputs": [],
   "source": []
  },
  {
   "cell_type": "code",
   "execution_count": 10,
   "id": "6536cb02",
   "metadata": {
    "lines_to_next_cell": 1
   },
   "outputs": [],
   "source": [
    "def save_pdf_attachment(content, folder_path, filename):\n",
    "    \"\"\"Save PDF attachments as .pdf files.\"\"\"\n",
    "    try:\n",
    "        base_name = sanitize_filename(os.path.splitext(filename)[0])\n",
    "        sanitized_filename = f\"{base_name}.pdf\"\n",
    "        pdf_path = os.path.join(folder_path, sanitized_filename)\n",
    "        with open(pdf_path, 'wb') as pdf_file:\n",
    "            pdf_file.write(content)\n",
    "        print(f\"Saved PDF: {pdf_path}\")\n",
    "    except Exception as e:\n",
    "        print(f\"Failed to save PDF {filename}: {e}\")"
   ]
  },
  {
   "cell_type": "code",
   "execution_count": 11,
   "id": "89fb6b92",
   "metadata": {
    "lines_to_next_cell": 1
   },
   "outputs": [],
   "source": [
    "def save_image_attachment(content, folder_path, filename):\n",
    "    \"\"\"Save image attachments in their original format without conversion.\"\"\"\n",
    "    try:\n",
    "        image = Image.open(BytesIO(content))\n",
    "        original_format = image.format.lower()\n",
    "        valid_formats = ['jpg', 'jpeg', 'png', 'gif', 'bmp', 'tiff']\n",
    "        if original_format not in valid_formats:\n",
    "            print(f\"Unsupported image format {original_format}. Saving as PNG.\")\n",
    "            original_format = \"png\"\n",
    "        sanitized_filename = sanitize_filename(os.path.splitext(filename)[0])\n",
    "        image_filename = f\"{sanitized_filename}.{original_format}\"\n",
    "        image_path = os.path.join(folder_path, image_filename)\n",
    "        image.save(image_path, format=image.format.upper())\n",
    "        print(f\"Saved image: {image_path}\")\n",
    "    except Exception as e:\n",
    "        print(f\"Failed to save image {filename}: {e}\")"
   ]
  },
  {
   "cell_type": "code",
   "execution_count": 12,
   "id": "824166d1",
   "metadata": {
    "lines_to_next_cell": 1
   },
   "outputs": [],
   "source": [
    "def process_pdfs_in_downloads():\n",
    "    \"\"\"Process all PDFs in the downloads folder and extract content.\"\"\"\n",
    "    for root, dirs, files in os.walk(downloads_folder):\n",
    "        for file in files:\n",
    "            if file.lower().endswith('.pdf'):\n",
    "                pdf_path = os.path.join(root, file)\n",
    "                base_dir = os.path.splitext(pdf_path)[0] \n",
    "                print(f\"Processing PDF: {pdf_path}\")\n",
    "                extract_content_from_pdf(pdf_path, base_dir)"
   ]
  },
  {
   "cell_type": "code",
   "execution_count": 13,
   "id": "154c06e9",
   "metadata": {
    "lines_to_next_cell": 1
   },
   "outputs": [],
   "source": [
    "def extract_content_from_pdf(pdf_path, base_dir):\n",
    "    \"\"\"Extract content from a PDF and save text, images, and tables.\"\"\"\n",
    "    try:\n",
    "        document = fitz.open(pdf_path)\n",
    "        json_dir = os.path.join(base_dir, 'JSON')\n",
    "        img_dir = os.path.join(base_dir, 'Image')\n",
    "        csv_dir = os.path.join(base_dir, 'CSV')\n",
    "        os.makedirs(json_dir, exist_ok=True)\n",
    "        os.makedirs(img_dir, exist_ok=True)\n",
    "        os.makedirs(csv_dir, exist_ok=True)\n",
    "        for page_num in range(document.page_count):\n",
    "            try:\n",
    "                page = document[page_num]\n",
    "                page_id = page_num + 1\n",
    "                page_content = {\n",
    "                    \"page_id\": page_id,\n",
    "                    \"content\": {}\n",
    "                }\n",
    "                text = page.get_text(\"text\")\n",
    "                page_content['content']['text'] = unidecode(text)\n",
    "                image_list = []\n",
    "                images = page.get_images(full=True)\n",
    "                for img_index, img in enumerate(images):\n",
    "                    try:\n",
    "                        xref = img[0]\n",
    "                        img_data = document.extract_image(xref)\n",
    "                        img_ext = img_data[\"ext\"]\n",
    "                        img_name = f\"{page_id}_image_{img_index}.{img_ext}\"\n",
    "                        img_path = os.path.join(img_dir, img_name)\n",
    "                        with open(img_path, 'wb') as img_file:\n",
    "                            img_file.write(img_data[\"image\"])\n",
    "                        image_list.append(img_name)\n",
    "                    except Exception as exception:\n",
    "                        print(f\"Error extracting image on Page {page_id} of PDF {pdf_path}: {exception}\")\n",
    "                page_content['content']['image'] = image_list\n",
    "                table_list = []\n",
    "                page_content['content']['table'] = table_list\n",
    "                json_file_path = os.path.join(json_dir, f\"{page_id}.json\")\n",
    "                with open(json_file_path, 'w') as json_file:\n",
    "                    json.dump(page_content, json_file, indent=4)\n",
    "            except Exception as exception:\n",
    "                print(f\"Error processing Page {page_num + 1} of PDF {pdf_path}: {exception}\")\n",
    "    except Exception as exception:\n",
    "        print(f\"Failed to open the PDF document {pdf_path}: {exception}\")"
   ]
  },
  {
   "cell_type": "code",
   "execution_count": 14,
   "id": "36fd91ba",
   "metadata": {},
   "outputs": [
    {
     "name": "stdout",
     "output_type": "stream",
     "text": [
      "Audio saved to downloads/Test Email_7/email_audio.mp3.\n",
      "Audio saved to downloads/Test Mail from Different Domain Mail_2/email_audio.mp3.\n",
      "Audio saved to downloads/test (with pdf)_2/email_audio.mp3.\n",
      "Saved PDF: downloads/test (with pdf)_2/risk_compilation_2018.pdf\n",
      "Saved image: downloads/test (with pdf)_2/docling.jpeg\n",
      "Audio saved to downloads/Mail with image_2/email_audio.mp3.\n",
      "Saved PDF: downloads/Mail with image_2/Final Project Proposaledited.pdf\n",
      "Saved image: downloads/Mail with image_2/docling.jpeg\n",
      "Audio saved to downloads/Test Email_8/email_audio.mp3.\n",
      "Audio saved to downloads/Manual mail_2/email_audio.mp3.\n",
      "Saved PDF: downloads/Manual mail_2/Final Project Proposaledited.pdf\n",
      "Audio saved to downloads/Test Email_9/email_audio.mp3.\n",
      "Audio saved to downloads/Test Email_10/email_audio.mp3.\n",
      "Audio saved to downloads/Test Email_11/email_audio.mp3.\n",
      "Audio saved to downloads/Test Email_12/email_audio.mp3.\n",
      "Processing PDF: downloads/Manual mail_1/Final Project Proposaledited.pdf\n",
      "Processing PDF: downloads/test (with pdf)_1/risk_compilation_2018.pdf\n",
      "Processing PDF: downloads/Mail with image_1/Final Project Proposaledited.pdf\n",
      "Processing PDF: downloads/Manual mail_2/Final Project Proposaledited.pdf\n",
      "Processing PDF: downloads/test (with pdf)_2/risk_compilation_2018.pdf\n",
      "Processing PDF: downloads/Mail with image_2/Final Project Proposaledited.pdf\n"
     ]
    }
   ],
   "source": [
    "if __name__ == \"__main__\":\n",
    "    fetch_emails()\n",
    "    process_pdfs_in_downloads()"
   ]
  }
 ],
 "metadata": {
  "jupytext": {
   "cell_metadata_filter": "-all",
   "main_language": "python",
   "notebook_metadata_filter": "-all"
  },
  "kernelspec": {
   "display_name": "demo",
   "language": "python",
   "name": "python3"
  },
  "language_info": {
   "codemirror_mode": {
    "name": "ipython",
    "version": 3
   },
   "file_extension": ".py",
   "mimetype": "text/x-python",
   "name": "python",
   "nbconvert_exporter": "python",
   "pygments_lexer": "ipython3",
   "version": "3.10.12"
  }
 },
 "nbformat": 4,
 "nbformat_minor": 5
}
