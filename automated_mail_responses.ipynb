{
 "cells": [
  {
   "cell_type": "markdown",
   "metadata": {},
   "source": [
    "This code authenticates using OAuth 2.0 to generate an access token for interacting with the Microsoft Graph API, allowing the fetching and sending of emails. It also validates if the email was successfully sent and received by the recipient mailbox."
   ]
  },
  {
   "cell_type": "code",
   "execution_count": null,
   "metadata": {
    "colab": {
     "base_uri": "https://localhost:8080/"
    },
    "id": "QZP42JzvOHta",
    "outputId": "7e951744-673f-4c3c-a03f-088c36043394"
   },
   "outputs": [
    {
     "name": "stdout",
     "output_type": "stream",
     "text": [
      "Collecting msal\n",
      "  Downloading msal-1.31.1-py3-none-any.whl.metadata (11 kB)\n",
      "Requirement already satisfied: requests in /usr/local/lib/python3.10/dist-packages (2.32.3)\n",
      "Requirement already satisfied: PyJWT<3,>=1.0.0 in /usr/local/lib/python3.10/dist-packages (from PyJWT[crypto]<3,>=1.0.0->msal) (2.10.0)\n",
      "Requirement already satisfied: cryptography<46,>=2.5 in /usr/local/lib/python3.10/dist-packages (from msal) (43.0.3)\n",
      "Requirement already satisfied: charset-normalizer<4,>=2 in /usr/local/lib/python3.10/dist-packages (from requests) (3.4.0)\n",
      "Requirement already satisfied: idna<4,>=2.5 in /usr/local/lib/python3.10/dist-packages (from requests) (3.10)\n",
      "Requirement already satisfied: urllib3<3,>=1.21.1 in /usr/local/lib/python3.10/dist-packages (from requests) (2.2.3)\n",
      "Requirement already satisfied: certifi>=2017.4.17 in /usr/local/lib/python3.10/dist-packages (from requests) (2024.8.30)\n",
      "Requirement already satisfied: cffi>=1.12 in /usr/local/lib/python3.10/dist-packages (from cryptography<46,>=2.5->msal) (1.17.1)\n",
      "Requirement already satisfied: pycparser in /usr/local/lib/python3.10/dist-packages (from cffi>=1.12->cryptography<46,>=2.5->msal) (2.22)\n",
      "Downloading msal-1.31.1-py3-none-any.whl (113 kB)\n",
      "\u001b[2K   \u001b[90m━━━━━━━━━━━━━━━━━━━━━━━━━━━━━━━━━━━━━━━━\u001b[0m \u001b[32m113.2/113.2 kB\u001b[0m \u001b[31m2.3 MB/s\u001b[0m eta \u001b[36m0:00:00\u001b[0m\n",
      "\u001b[?25hInstalling collected packages: msal\n",
      "Successfully installed msal-1.31.1\n"
     ]
    }
   ],
   "source": [
    "!pip install msal requests"
   ]
  },
  {
   "cell_type": "code",
   "execution_count": 1,
   "metadata": {},
   "outputs": [],
   "source": [
    "import os\n",
    "from getpass import getpass\n",
    "from msal import ConfidentialClientApplication\n",
    "import requests\n",
    "import requests\n",
    "from datetime import datetime, timezone"
   ]
  },
  {
   "cell_type": "code",
   "execution_count": 2,
   "metadata": {},
   "outputs": [
    {
     "name": "stdout",
     "output_type": "stream",
     "text": [
      "CLIENT_ID has been set.\n",
      "TENANT_ID has been set.\n",
      "CLIENT_SECRET has been set.\n"
     ]
    }
   ],
   "source": [
    "# Check and set environment variables\n",
    "\n",
    "def get_env_variable(var_name):\n",
    "    value = os.getenv(var_name)\n",
    "    if value is None:\n",
    "        value = getpass(f\"Please enter {var_name}: \")\n",
    "        os.environ[var_name] = value\n",
    "        print(f\"{var_name} has been set.\")\n",
    "    return value\n",
    "\n",
    "CLIENT_ID = get_env_variable(\"CLIENT_ID\")\n",
    "TENANT_ID = get_env_variable(\"TENANT_ID\")\n",
    "CLIENT_SECRET = get_env_variable(\"CLIENT_SECRET\")"
   ]
  },
  {
   "cell_type": "code",
   "execution_count": 3,
   "metadata": {
    "colab": {
     "base_uri": "https://localhost:8080/"
    },
    "id": "wZ3reUfkk3vx",
    "outputId": "86584362-446c-41b2-ba8c-f23ffa5ea98b"
   },
   "outputs": [
    {
     "name": "stdout",
     "output_type": "stream",
     "text": [
      "Access Token: eyJ0eXAiOiJKV1QiLCJub25jZSI6Im91cVl3bERtMGJMdXpoM1dvVlFzZHBKQ3BwOFRCUjE0SzVjTk1DcWRZRm8iLCJhbGciOiJSUzI1NiIsIng1dCI6Inp4ZWcyV09OcFRrd041R21lWWN1VGR0QzZKMCIsImtpZCI6Inp4ZWcyV09OcFRrd041R21lWWN1VGR0QzZKMCJ9.eyJhdWQiOiJodHRwczovL2dyYXBoLm1pY3Jvc29mdC5jb20iLCJpc3MiOiJodHRwczovL3N0cy53aW5kb3dzLm5ldC8zYmIxZjA3OC03M2I2LTQzNzYtOTZlNS00ZDllOTM1NjQzOTYvIiwiaWF0IjoxNzMyMzA3MzI5LCJuYmYiOjE3MzIzMDczMjksImV4cCI6MTczMjMxMTIyOSwiYWlvIjoiazJCZ1lOaDU1ZWFUc2xNU080OFpQRXdRdkxHTUJ3QT0iLCJhcHBfZGlzcGxheW5hbWUiOiJtYWlsLWFzc2lzdGFudCIsImFwcGlkIjoiNWJlNDVlNDQtZjA4NS00YTVlLThiYWQtYWNlNDNkMWJkYWVkIiwiYXBwaWRhY3IiOiIxIiwiaWRwIjoiaHR0cHM6Ly9zdHMud2luZG93cy5uZXQvM2JiMWYwNzgtNzNiNi00Mzc2LTk2ZTUtNGQ5ZTkzNTY0Mzk2LyIsImlkdHlwIjoiYXBwIiwib2lkIjoiM2ZkZGM2ZWQtMDE1Zi00NjFlLTkzNGItYjExMzgwMjAxNGY4IiwicmgiOiIxLkFXOEJlUEN4TzdaemRrT1c1VTJlazFaRGxnTUFBQUFBQUFBQXdBQUFBQUFBQUFCd0FRQnZBUS4iLCJyb2xlcyI6WyJNYWlsLlJlYWRXcml0ZSIsIlVzZXItTWFpbC5SZWFkV3JpdGUuQWxsIiwiTWFpbC5SZWFkQmFzaWMuQWxsIiwiTWFpbC5SZWFkIiwiTWFpbC5TZW5kIiwiTWFpbC5SZWFkQmFzaWMiXSwic3ViIjoiM2ZkZGM2ZWQtMDE1Zi00NjFlLTkzNGItYjExMzgwMjAxNGY4IiwidGVuYW50X3JlZ2lvbl9zY29wZSI6Ik5BIiwidGlkIjoiM2JiMWYwNzgtNzNiNi00Mzc2LTk2ZTUtNGQ5ZTkzNTY0Mzk2IiwidXRpIjoieHNWSFRqX1dlRU84LXcyZHlKSkdBQSIsInZlciI6IjEuMCIsIndpZHMiOlsiMDk5N2ExZDAtMGQxZC00YWNiLWI0MDgtZDVjYTczMTIxZTkwIl0sInhtc19pZHJlbCI6IjcgMzAiLCJ4bXNfdGNkdCI6MTczMjE1ODg0NH0.im7JtHkwQG_eb9WuL0cv9jshpBAhCFdq2SBa_G-gG8PdBfILl4ymOb8Il9uVm2n6Ti98B5WkZ4nLLEbd7GtYkV1lCmt204pdJO4nHoXfPQFRa9So9mojNYU2HFEu6onsG7c0aL8Q8NRYr8T_JXe3pQHRbcKdIIMAhnK5QMHJV_z6z-vRL1MZASILutn5_msCrJlrGHRTLCBETNQJBJrV301PuKjNxGOY7t23LO5PJD_NaBxpmfqGj-fKwai7fYP5Eq06fBNym4YEG0zHrBKJyhQMstp_MfeqEQMve9nErGibSj-s8q6Fq97Rjy91wlT8aQLZg1B7AtUMssULVhTOtg\n"
     ]
    }
   ],
   "source": [
    "def get_access_token():\n",
    "    \"\"\"Fetch an access token from Microsoft Graph API.\"\"\"\n",
    "    app = ConfidentialClientApplication(\n",
    "        CLIENT_ID,\n",
    "        authority=f\"https://login.microsoftonline.com/{TENANT_ID}\",\n",
    "        client_credential=CLIENT_SECRET,\n",
    "    )\n",
    "    token_response = app.acquire_token_for_client(scopes=[\"https://graph.microsoft.com/.default\"])\n",
    "    return token_response.get(\"access_token\")\n",
    "\n",
    "# Generate Access Token\n",
    "access_token = get_access_token()\n",
    "print(f\"Access Token: {access_token}\")\n"
   ]
  },
  {
   "cell_type": "code",
   "execution_count": 4,
   "metadata": {
    "colab": {
     "base_uri": "https://localhost:8080/"
    },
    "id": "H-K-1aHylPsh",
    "outputId": "b8e2c8e5-d84c-47db-9224-4adacb57e2fc"
   },
   "outputs": [
    {
     "name": "stdout",
     "output_type": "stream",
     "text": [
      "Subject: Test Email\n",
      "From: team6@damg7245.onmicrosoft.com\n",
      "Received: 2024-11-22T01:48:38Z\n",
      "\n",
      "Subject: Test Mail from Different Domain Mail\n",
      "From: nasika.d@northeastern.edu\n",
      "Received: 2024-11-22T00:32:37Z\n",
      "\n",
      "Subject: test (with pdf)\n",
      "From: team6@damg7245.onmicrosoft.com\n",
      "Received: 2024-11-22T00:17:39Z\n",
      "\n",
      "Subject: Mail with image\n",
      "From: team6@damg7245.onmicrosoft.com\n",
      "Received: 2024-11-21T21:33:53Z\n",
      "\n",
      "Subject: Test Email\n",
      "From: team6@damg7245.onmicrosoft.com\n",
      "Received: 2024-11-21T20:37:44Z\n",
      "\n",
      "Subject: Manual mail\n",
      "From: team6@damg7245.onmicrosoft.com\n",
      "Received: 2024-11-21T20:13:51Z\n",
      "\n",
      "Subject: Test Email\n",
      "From: team6@damg7245.onmicrosoft.com\n",
      "Received: 2024-11-21T20:03:58Z\n",
      "\n",
      "Subject: Test Email\n",
      "From: team6@damg7245.onmicrosoft.com\n",
      "Received: 2024-11-21T19:24:57Z\n",
      "\n",
      "Subject: Test Email\n",
      "From: team6@damg7245.onmicrosoft.com\n",
      "Received: 2024-11-21T19:16:20Z\n",
      "\n",
      "Subject: Test Email\n",
      "From: team6@damg7245.onmicrosoft.com\n",
      "Received: 2024-11-21T18:03:19Z\n",
      "\n"
     ]
    }
   ],
   "source": [
    "def fetch_emails(user_email, access_token):\n",
    "    \"\"\"Fetch emails for a specific user.\"\"\"\n",
    "    url = f\"https://graph.microsoft.com/v1.0/users/{user_email}/messages\"\n",
    "    headers = {\"Authorization\": f\"Bearer {access_token}\"}\n",
    "    params = {\n",
    "        \"$top\": 10,  # Fetch top 10 emails\n",
    "        \"$select\": \"subject,from,receivedDateTime\"  # Select specific fields\n",
    "    }\n",
    "    response = requests.get(url, headers=headers, params=params)\n",
    "\n",
    "    if response.status_code == 200:\n",
    "        emails = response.json().get(\"value\", [])\n",
    "        for email in emails:\n",
    "            print(f\"Subject: {email['subject']}\")\n",
    "            print(f\"From: {email['from']['emailAddress']['address']}\")\n",
    "            print(f\"Received: {email['receivedDateTime']}\\n\")\n",
    "    else:\n",
    "        print(f\"Error: {response.status_code}, {response.text}\")\n",
    "\n",
    "# Test Fetch Emails\n",
    "user_email = \"user1@damg7245.onmicrosoft.com\"  # Replace with your admin account email\n",
    "fetch_emails(user_email, access_token)\n"
   ]
  },
  {
   "cell_type": "code",
   "execution_count": 5,
   "metadata": {
    "colab": {
     "base_uri": "https://localhost:8080/"
    },
    "id": "Td7ssoiumV7c",
    "outputId": "dc75304a-d09c-4b70-dce9-58646e67e6c0"
   },
   "outputs": [],
   "source": [
    "def send_email_individual(sender_email, recipient_email, subject, body, access_token):\n",
    "    \"\"\"Send an email using Microsoft Graph API.\"\"\"\n",
    "    url = f\"https://graph.microsoft.com/v1.0/users/{sender_email}/sendMail\"\n",
    "    headers = {\n",
    "        \"Authorization\": f\"Bearer {access_token}\",\n",
    "        \"Content-Type\": \"application/json\"\n",
    "    }\n",
    "    email_data = {\n",
    "        \"message\": {\n",
    "            \"subject\": subject,\n",
    "            \"body\": {\"contentType\": \"Text\", \"content\": body},\n",
    "            \"toRecipients\": [{\"emailAddress\": {\"address\": recipient_email}}],\n",
    "        }\n",
    "    }\n",
    "    response = requests.post(url, headers=headers, json=email_data)\n",
    "\n",
    "    if response.status_code == 202:\n",
    "        print(\"Email sent successfully.\")\n",
    "    else:\n",
    "        print(f\"Error: {response.status_code}, {response.text}\")\n"
   ]
  },
  {
   "cell_type": "code",
   "execution_count": 6,
   "metadata": {},
   "outputs": [
    {
     "name": "stdout",
     "output_type": "stream",
     "text": [
      "Email sent successfully.\n"
     ]
    }
   ],
   "source": [
    "# Test Send Email\n",
    "send_email_individual(\n",
    "    sender_email=\"team6@damg7245.onmicrosoft.com\",\n",
    "    recipient_email=\"user1@damg7245.onmicrosoft.com\",\n",
    "    subject=\"Test Email\",\n",
    "    body=\"This is a test email sent from Microsoft Graph API.\",\n",
    "    access_token=access_token\n",
    ")"
   ]
  },
  {
   "cell_type": "code",
   "execution_count": 7,
   "metadata": {
    "colab": {
     "base_uri": "https://localhost:8080/"
    },
    "id": "vhuSoY3Amw1k",
    "outputId": "8ca26843-5c38-418d-c89c-8e1a5df84e3b"
   },
   "outputs": [],
   "source": [
    "def send_email(sender_email, recipient_email, subject, body, access_token):\n",
    "    \"\"\"Send an email using Microsoft Graph API.\"\"\"\n",
    "    print(\"[INFO] Sending email...\")\n",
    "    url = f\"https://graph.microsoft.com/v1.0/users/{sender_email}/sendMail\"\n",
    "    headers = {\n",
    "        \"Authorization\": f\"Bearer {access_token}\",\n",
    "        \"Content-Type\": \"application/json\"\n",
    "    }\n",
    "    email_data = {\n",
    "        \"message\": {\n",
    "            \"subject\": subject,\n",
    "            \"body\": {\"contentType\": \"Text\", \"content\": body},\n",
    "            \"toRecipients\": [{\"emailAddress\": {\"address\": recipient_email}}],\n",
    "        }\n",
    "    }\n",
    "    response = requests.post(url, headers=headers, json=email_data)\n",
    "\n",
    "    if response.status_code == 202:\n",
    "        print(\"[SUCCESS] Email sent successfully.\")\n",
    "        return True\n",
    "    else:\n",
    "        print(f\"[ERROR] Failed to send email. Status Code: {response.status_code}, Response: {response.text}\")\n",
    "        return False"
   ]
  },
  {
   "cell_type": "code",
   "execution_count": 8,
   "metadata": {},
   "outputs": [],
   "source": [
    "def fetch_emails(recipient_email, access_token, search_subject):\n",
    "    \"\"\"Fetch emails from recipient's inbox using Microsoft Graph API.\"\"\"\n",
    "    print(\"[INFO] Fetching emails from recipient's mailbox...\")\n",
    "    url = f\"https://graph.microsoft.com/v1.0/users/{recipient_email}/messages\"\n",
    "    headers = {\n",
    "        \"Authorization\": f\"Bearer {access_token}\",\n",
    "        \"Content-Type\": \"application/json\"\n",
    "    }\n",
    "    params = {\n",
    "        \"$orderby\": \"receivedDateTime desc\",\n",
    "        \"$top\": 10  # Fetch only the latest 10 emails for efficiency\n",
    "    }\n",
    "    response = requests.get(url, headers=headers, params=params)\n",
    "\n",
    "    if response.status_code == 200:\n",
    "        print(\"[SUCCESS] Emails fetched successfully.\")\n",
    "        messages = response.json().get(\"value\", [])\n",
    "        return messages\n",
    "    else:\n",
    "        print(f\"[ERROR] Failed to fetch emails. Status Code: {response.status_code}, Response: {response.text}\")\n",
    "        return []"
   ]
  },
  {
   "cell_type": "code",
   "execution_count": 9,
   "metadata": {},
   "outputs": [],
   "source": [
    "def verify_email(subject, sent_time, emails):\n",
    "    \"\"\"Verify if the email is present in the fetched emails using subject and timestamp.\"\"\"\n",
    "    print(\"[INFO] Verifying the email in the recipient's mailbox...\")\n",
    "    for email in emails:\n",
    "        email_subject = email.get(\"subject\", \"\")\n",
    "        email_received_time = email.get(\"receivedDateTime\", \"\")\n",
    "\n",
    "        # Convert email received time to offset-aware datetime\n",
    "        email_received_dt = datetime.fromisoformat(email_received_time.replace(\"Z\", \"+00:00\"))\n",
    "\n",
    "        # Ensure sent_time is also offset-aware (assume UTC if not specified)\n",
    "        sent_time_dt = datetime.fromisoformat(sent_time).replace(tzinfo=timezone.utc)\n",
    "\n",
    "        # Compare subject and timestamp (within 60 seconds)\n",
    "        if email_subject == subject and abs((email_received_dt - sent_time_dt).total_seconds()) <= 60:\n",
    "            print(f\"[SUCCESS] Email verified. Subject: {email_subject}, Received at: {email_received_dt}\")\n",
    "            return True\n",
    "\n",
    "    print(\"[ERROR] Email not found in the recipient's mailbox.\")\n",
    "    return False"
   ]
  },
  {
   "cell_type": "code",
   "execution_count": 10,
   "metadata": {
    "id": "PGWzhPWScdeP"
   },
   "outputs": [
    {
     "name": "stderr",
     "output_type": "stream",
     "text": [
      "C:\\Users\\Pigeon\\AppData\\Local\\Temp\\ipykernel_37224\\2255936748.py:7: DeprecationWarning: datetime.datetime.utcnow() is deprecated and scheduled for removal in a future version. Use timezone-aware objects to represent datetimes in UTC: datetime.datetime.now(datetime.UTC).\n",
      "  current_time = datetime.utcnow().isoformat()\n"
     ]
    }
   ],
   "source": [
    "# Main execution flow\n",
    "access_token = access_token\n",
    "sender_email = \"team6@damg7245.onmicrosoft.com\"\n",
    "recipient_email = \"user1@damg7245.onmicrosoft.com\"\n",
    "subject = \"Test Email\"\n",
    "body = \"This is a test email sent from Microsoft Graph API.\"\n",
    "current_time = datetime.utcnow().isoformat()"
   ]
  },
  {
   "cell_type": "code",
   "execution_count": 11,
   "metadata": {},
   "outputs": [
    {
     "name": "stdout",
     "output_type": "stream",
     "text": [
      "[INFO] Sending email...\n",
      "[SUCCESS] Email sent successfully.\n",
      "[INFO] Fetching emails from recipient's mailbox...\n",
      "[SUCCESS] Emails fetched successfully.\n",
      "[INFO] Verifying the email in the recipient's mailbox...\n",
      "[SUCCESS] Email verified. Subject: Test Email, Received at: 2024-11-22 20:34:11+00:00\n"
     ]
    }
   ],
   "source": [
    "# Step 1: Send email\n",
    "if send_email(sender_email, recipient_email, subject, body, access_token):\n",
    "    \n",
    "    # Step 2: Fetch emails from recipient's mailbox\n",
    "    emails = fetch_emails(recipient_email, access_token, subject)\n",
    "\n",
    "    # Step 3: Verify the email with subject and timestamp\n",
    "    verify_email(subject, current_time, emails)\n",
    "\n",
    "else:\n",
    "    print(\"[ERROR] Unable to proceed with verification as email sending failed.\")"
   ]
  }
 ],
 "metadata": {
  "colab": {
   "provenance": []
  },
  "kernelspec": {
   "display_name": "QuickReplyApp",
   "language": "python",
   "name": "python3"
  },
  "language_info": {
   "codemirror_mode": {
    "name": "ipython",
    "version": 3
   },
   "file_extension": ".py",
   "mimetype": "text/x-python",
   "name": "python",
   "nbconvert_exporter": "python",
   "pygments_lexer": "ipython3",
   "version": "3.13.0"
  }
 },
 "nbformat": 4,
 "nbformat_minor": 0
}
